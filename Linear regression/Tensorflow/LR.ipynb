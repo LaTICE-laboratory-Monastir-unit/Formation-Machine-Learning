{
 "cells": [
  {
   "cell_type": "code",
   "execution_count": 1,
   "metadata": {
    "collapsed": true
   },
   "outputs": [],
   "source": [
    "import tensorflow as tf\n",
    "import matplotlib.pyplot as plt\n",
    "import pandas as pan"
   ]
  },
  {
   "cell_type": "code",
   "execution_count": 2,
   "metadata": {
    "collapsed": true
   },
   "outputs": [],
   "source": [
    "# Parameters\n",
    "learning_rate = 0.01\n",
    "training_epochs = 5000\n",
    "display_step = 1000"
   ]
  },
  {
   "cell_type": "code",
   "execution_count": 3,
   "metadata": {
    "collapsed": true
   },
   "outputs": [],
   "source": [
    "# Training Data\n",
    "train_X = pan.read_csv('x.dat')\n",
    "train_Y = pan.read_csv('y.dat')\n",
    "\n",
    "m = len(train_X)"
   ]
  },
  {
   "cell_type": "code",
   "execution_count": 4,
   "metadata": {
    "collapsed": true
   },
   "outputs": [],
   "source": [
    "# tf Graph Input\n",
    "X = tf.placeholder(tf.float32, shape=([50, 1]))\n",
    "Y = tf.placeholder(tf.float32, shape=([50, 1]))"
   ]
  },
  {
   "cell_type": "code",
   "execution_count": 5,
   "metadata": {
    "collapsed": true
   },
   "outputs": [],
   "source": [
    "# Set model weights\n",
    "W = tf.Variable(tf.zeros([1]), name=\"weight\")\n",
    "b = tf.Variable(tf.zeros([1]), name=\"bias\")"
   ]
  },
  {
   "cell_type": "code",
   "execution_count": 6,
   "metadata": {
    "collapsed": true
   },
   "outputs": [],
   "source": [
    "# Construct a linear model\n",
    "pred = tf.add(tf.multiply(X, W), b)"
   ]
  },
  {
   "cell_type": "code",
   "execution_count": 7,
   "metadata": {
    "collapsed": true
   },
   "outputs": [],
   "source": [
    "# Mean squared error\n",
    "cost = tf.reduce_sum(tf.pow(pred-Y, 2))/(2*m)"
   ]
  },
  {
   "cell_type": "code",
   "execution_count": 8,
   "metadata": {
    "collapsed": true
   },
   "outputs": [],
   "source": [
    "# Gradient descent\n",
    "optimizer = tf.train.GradientDescentOptimizer(learning_rate).minimize(cost)"
   ]
  },
  {
   "cell_type": "code",
   "execution_count": 9,
   "metadata": {
    "collapsed": true
   },
   "outputs": [],
   "source": [
    "session = tf.Session()\n",
    "session.run(tf.global_variables_initializer())"
   ]
  },
  {
   "cell_type": "code",
   "execution_count": 10,
   "metadata": {},
   "outputs": [
    {
     "name": "stdout",
     "output_type": "stream",
     "text": [
      " Epoch: 1000 cost= 0.004405471 W= [ 0.10972781] b= [ 0.49817145]\n",
      " Epoch: 2000 cost= 0.001411822 W= [ 0.080042] b= [ 0.66133624]\n",
      " Epoch: 3000 cost= 0.001039847 W= [ 0.06957782] b= [ 0.71885151]\n",
      " Epoch: 4000 cost= 0.000993628 W= [ 0.06588921] b= [ 0.73912555]\n",
      " Epoch: 5000 cost= 0.000987885 W= [ 0.06458903] b= [ 0.74627179]\n"
     ]
    }
   ],
   "source": [
    "for epoch in range(training_epochs):\n",
    "    c = session.run(optimizer, feed_dict={X: train_X, Y: train_Y})\n",
    "\n",
    "    #Display logs per epoch step\n",
    "    if (epoch+1) % display_step == 0:\n",
    "        c = session.run(cost, feed_dict={X: train_X, Y:train_Y})\n",
    "        print (\" Epoch:\", '%04d' % (epoch+1), \"cost=\", \"{:.9f}\".format(c), \"W=\", session.run(W), \"b=\", session.run(b))"
   ]
  },
  {
   "cell_type": "code",
   "execution_count": 11,
   "metadata": {},
   "outputs": [
    {
     "name": "stdout",
     "output_type": "stream",
     "text": [
      "Training cost= 0.000987885 W= [ 0.06458903] b= [ 0.74627179] \n",
      "\n"
     ]
    }
   ],
   "source": [
    "training_cost = session.run(cost, feed_dict={X: train_X, Y: train_Y})\n",
    "print (\"Training cost=\", training_cost, \"W=\", session.run(W), \"b=\", session.run(b), '\\n')"
   ]
  },
  {
   "cell_type": "code",
   "execution_count": 12,
   "metadata": {},
   "outputs": [
    {
     "data": {
      "image/png": "[encoded data removed]",
      "text/plain": [
       "<matplotlib.figure.Figure at 0x7fa3f762b390>"
      ]
     },
     "metadata": {},
     "output_type": "display_data"
    }
   ],
   "source": [
    "#Graphic display\n",
    "plt.plot(train_X, train_Y, 'ro', label='Original data')\n",
    "plt.plot(train_X, session.run(W) * train_X + session.run(b), label='Fitted line')\n",
    "plt.legend()\n",
    "plt.show()"
   ]
  }
 ],
 "metadata": {
  "anaconda-cloud": {},
  "kernelspec": {
   "display_name": "Python [conda root]",
   "language": "python",
   "name": "conda-root-py"
  },
  "language_info": {
   "codemirror_mode": {
    "name": "ipython",
    "version": 3
   },
   "file_extension": ".py",
   "mimetype": "text/x-python",
   "name": "python",
   "nbconvert_exporter": "python",
   "pygments_lexer": "ipython3",
   "version": "3.5.2"
  }
 },
 "nbformat": 4,
 "nbformat_minor": 1
}
