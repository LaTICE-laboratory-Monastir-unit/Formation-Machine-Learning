{
 "cells": [
  {
   "cell_type": "markdown",
   "metadata": {},
   "source": [
    "# Banknote authentication Data Set "
   ]
  },
  {
   "cell_type": "markdown",
   "metadata": {},
   "source": [
    "## Data Set Information:\n",
    "Les données ont été extraites des images qui ont été prises pour l'évaluation d'une procédure d'authentification pour les billets de banque.(Owner of database: Volker Lohweg, University of Applied Sciences, Ostwestfalen-Lippe)\n",
    "\n",
    "- Nombre d'instances : 1372\n",
    "- Type : réel\n",
    "- Nombre de caractéristiques : 4\n",
    "- Tâche : Classification\n",
    "\n",
    "## Caractéristiques:\n",
    "- X1 : variance\n",
    "- X2 : skewness\n",
    "- X3 : curtosis\n",
    "- X4 : entropy\n",
    "\n"
   ]
  },
  {
   "cell_type": "markdown",
   "metadata": {},
   "source": [
    "# HEADERS"
   ]
  },
  {
   "cell_type": "code",
   "execution_count": 1,
   "metadata": {
    "collapsed": true
   },
   "outputs": [],
   "source": [
    "import tensorflow as tf\n",
    "import numpy as np\n",
    "import pandas as pan\n",
    "import matplotlib.pyplot as plt"
   ]
  },
  {
   "cell_type": "code",
   "execution_count": 2,
   "metadata": {
    "collapsed": true
   },
   "outputs": [],
   "source": [
    "%matplotlib inline "
   ]
  },
  {
   "cell_type": "code",
   "execution_count": 3,
   "metadata": {
    "collapsed": true
   },
   "outputs": [],
   "source": [
    "learning_rate = 1\n",
    "training_epochs = 10000\n",
    "step_display = 1000"
   ]
  },
  {
   "cell_type": "markdown",
   "metadata": {},
   "source": [
    "# 1. DATA"
   ]
  },
  {
   "cell_type": "markdown",
   "metadata": {},
   "source": [
    "### 1.1. Load Data\n",
    "Les données sont enregistrées en format CSV sous forme de matrice de dimension 6x1372."
   ]
  },
  {
   "cell_type": "code",
   "execution_count": 4,
   "metadata": {
    "collapsed": true
   },
   "outputs": [],
   "source": [
    "data = pan.read_csv('data/money.csv')"
   ]
  },
  {
   "cell_type": "code",
   "execution_count": 5,
   "metadata": {},
   "outputs": [
    {
     "data": {
      "text/html": [
       "<div>\n",
       "<table border=\"1\" class=\"dataframe\">\n",
       "  <thead>\n",
       "    <tr style=\"text-align: right;\">\n",
       "      <th></th>\n",
       "      <th>X1</th>\n",
       "      <th>X2</th>\n",
       "      <th>X3</th>\n",
       "      <th>X4</th>\n",
       "      <th>Label1</th>\n",
       "      <th>Label2</th>\n",
       "    </tr>\n",
       "  </thead>\n",
       "  <tbody>\n",
       "    <tr>\n",
       "      <th>0</th>\n",
       "      <td>-0.025314</td>\n",
       "      <td>-0.17383</td>\n",
       "      <td>-0.11339</td>\n",
       "      <td>1.21980</td>\n",
       "      <td>1</td>\n",
       "      <td>0</td>\n",
       "    </tr>\n",
       "    <tr>\n",
       "      <th>1</th>\n",
       "      <td>5.807000</td>\n",
       "      <td>5.00970</td>\n",
       "      <td>-2.23840</td>\n",
       "      <td>0.43878</td>\n",
       "      <td>0</td>\n",
       "      <td>1</td>\n",
       "    </tr>\n",
       "    <tr>\n",
       "      <th>2</th>\n",
       "      <td>-2.434900</td>\n",
       "      <td>-9.24970</td>\n",
       "      <td>8.99220</td>\n",
       "      <td>-0.50001</td>\n",
       "      <td>1</td>\n",
       "      <td>0</td>\n",
       "    </tr>\n",
       "    <tr>\n",
       "      <th>3</th>\n",
       "      <td>-1.693600</td>\n",
       "      <td>2.78520</td>\n",
       "      <td>-2.18350</td>\n",
       "      <td>-1.92760</td>\n",
       "      <td>1</td>\n",
       "      <td>0</td>\n",
       "    </tr>\n",
       "    <tr>\n",
       "      <th>4</th>\n",
       "      <td>0.636550</td>\n",
       "      <td>5.20220</td>\n",
       "      <td>-5.21590</td>\n",
       "      <td>-6.12110</td>\n",
       "      <td>1</td>\n",
       "      <td>0</td>\n",
       "    </tr>\n",
       "  </tbody>\n",
       "</table>\n",
       "</div>"
      ],
      "text/plain": [
       "         X1       X2       X3       X4  Label1  Label2\n",
       "0 -0.025314 -0.17383 -0.11339  1.21980       1       0\n",
       "1  5.807000  5.00970 -2.23840  0.43878       0       1\n",
       "2 -2.434900 -9.24970  8.99220 -0.50001       1       0\n",
       "3 -1.693600  2.78520 -2.18350 -1.92760       1       0\n",
       "4  0.636550  5.20220 -5.21590 -6.12110       1       0"
      ]
     },
     "execution_count": 5,
     "metadata": {},
     "output_type": "execute_result"
    }
   ],
   "source": [
    "data[0 :5]"
   ]
  },
  {
   "cell_type": "markdown",
   "metadata": {},
   "source": [
    "### 1.2. Train data\n",
    "Les mille premières lignes des données seront résérvées à l'apprentissage du système."
   ]
  },
  {
   "cell_type": "code",
   "execution_count": 6,
   "metadata": {
    "collapsed": true
   },
   "outputs": [],
   "source": [
    "x_train = data.loc[0:1000, ['X1', 'X2', 'X3', 'X4']].as_matrix()\n",
    "y_train = data.loc[0:1000, ['Label1', 'Label2']].as_matrix()"
   ]
  },
  {
   "cell_type": "markdown",
   "metadata": {},
   "source": [
    "### 1.3. Test data\n",
    "Le reste des données (372 lignes) seront résérvées pour le test."
   ]
  },
  {
   "cell_type": "code",
   "execution_count": 7,
   "metadata": {
    "collapsed": true
   },
   "outputs": [],
   "source": [
    "x_test = data.loc[1001: len(data), ['X1', 'X2', 'X3', 'X4']].as_matrix()\n",
    "y_test = data.loc[1001: len(data), ['Label1', 'Label2']].as_matrix()"
   ]
  },
  {
   "cell_type": "markdown",
   "metadata": {},
   "source": [
    "# 2. BUILD GRAPH"
   ]
  },
  {
   "cell_type": "markdown",
   "metadata": {},
   "source": [
    "### 2.1. Placholders"
   ]
  },
  {
   "cell_type": "code",
   "execution_count": 8,
   "metadata": {
    "collapsed": true
   },
   "outputs": [],
   "source": [
    "x = tf.placeholder(tf.float32, shape=[None, 4], name=\"X\")\n",
    "y = tf.placeholder(tf.float32, shape=[None, 2], name=\"Y\")"
   ]
  },
  {
   "cell_type": "markdown",
   "metadata": {},
   "source": [
    "### 2.2. Weights and Biases"
   ]
  },
  {
   "cell_type": "code",
   "execution_count": 9,
   "metadata": {
    "collapsed": true
   },
   "outputs": [],
   "source": [
    "# Layer N°1\n",
    "w1 = tf.Variable(tf.zeros([4, 4]), name=\"w1\")\n",
    "b1 = tf.Variable(tf.zeros([4]), name=\"b1\")\n",
    "\n",
    "# Layer N°2\n",
    "w2 = tf.Variable(tf.zeros([4, 2]), name=\"w2\")\n",
    "b2 = tf.Variable(tf.zeros([2]), name=\"b2\")"
   ]
  },
  {
   "cell_type": "markdown",
   "metadata": {},
   "source": [
    "### 2.3. Model"
   ]
  },
  {
   "cell_type": "markdown",
   "metadata": {},
   "source": [
    "2.3.1. Layers"
   ]
  },
  {
   "cell_type": "code",
   "execution_count": 10,
   "metadata": {
    "collapsed": true
   },
   "outputs": [],
   "source": [
    "# Layer N°1\n",
    "z1 = tf.matmul(x, w1) + b1\n",
    "a1 = tf.sigmoid(z1)\n",
    "\n",
    "# Layer N°2\n",
    "z2 = tf.matmul(a1, w2) + b2\n",
    "a2 = tf.sigmoid(z2)\n",
    "\n",
    "# softmax function\n",
    "y_pred = tf.nn.softmax(a2)"
   ]
  },
  {
   "cell_type": "markdown",
   "metadata": {},
   "source": [
    "2.3.2. Cost function"
   ]
  },
  {
   "cell_type": "code",
   "execution_count": 11,
   "metadata": {
    "collapsed": true
   },
   "outputs": [],
   "source": [
    "cross_entropy = tf.reduce_mean(-tf.reduce_sum(y * tf.log(y_pred), reduction_indices=[1]))"
   ]
  },
  {
   "cell_type": "markdown",
   "metadata": {},
   "source": [
    "2.3.3. Optimizer"
   ]
  },
  {
   "cell_type": "code",
   "execution_count": 12,
   "metadata": {
    "collapsed": true
   },
   "outputs": [],
   "source": [
    "optimiser = tf.train.GradientDescentOptimizer(learning_rate).minimize(cross_entropy)"
   ]
  },
  {
   "cell_type": "markdown",
   "metadata": {},
   "source": [
    "# 3.SESSION"
   ]
  },
  {
   "cell_type": "markdown",
   "metadata": {},
   "source": [
    "### 3.1. Start session"
   ]
  },
  {
   "cell_type": "code",
   "execution_count": 13,
   "metadata": {
    "collapsed": true
   },
   "outputs": [],
   "source": [
    "sess = tf.Session()\n",
    "sess.run(tf.global_variables_initializer())"
   ]
  },
  {
   "cell_type": "markdown",
   "metadata": {},
   "source": [
    "### 3.2. Training"
   ]
  },
  {
   "cell_type": "code",
   "execution_count": 14,
   "metadata": {},
   "outputs": [
    {
     "name": "stdout",
     "output_type": "stream",
     "text": [
      "Step :     0 ||  Cost = 0.6931462\n",
      "Step :  1000 ||  Cost = 0.3275117\n",
      "Step :  2000 ||  Cost = 0.3242502\n",
      "Step :  3000 ||  Cost = 0.323219\n",
      "Step :  4000 ||  Cost = 0.3226876\n",
      "Step :  5000 ||  Cost = 0.3222642\n",
      "Step :  6000 ||  Cost = 0.3219311\n",
      "Step :  7000 ||  Cost = 0.3216859\n",
      "Step :  8000 ||  Cost = 0.3215004\n",
      "Step :  9000 ||  Cost = 0.3213553\n",
      "Step : 10000 ||  Cost = 0.3212389\n"
     ]
    }
   ],
   "source": [
    "costs = np.zeros(training_epochs+1)\n",
    "for step in range(training_epochs+1):\n",
    "    _, cost = sess.run([optimiser, cross_entropy], feed_dict={x : x_train, y: y_train})\n",
    "    costs[step] = cost\n",
    "    if step % step_display == 0 :\n",
    "        print('Step :{:6}'.format(step),'||  Cost = {:3.7}'.format(cost))"
   ]
  },
  {
   "cell_type": "markdown",
   "metadata": {},
   "source": [
    "### 3.3. Graphic display"
   ]
  },
  {
   "cell_type": "code",
   "execution_count": 15,
   "metadata": {},
   "outputs": [
    {
     "data": {
      "text/plain": [
       "<matplotlib.text.Text at 0x7face80ae3c8>"
      ]
     },
     "execution_count": 15,
     "metadata": {},
     "output_type": "execute_result"
    },
    {
     "data": {
      "image/png": "[encoded data removed]",
      "text/plain": [
       "<matplotlib.figure.Figure at 0x7face80ec400>"
      ]
     },
     "metadata": {},
     "output_type": "display_data"
    }
   ],
   "source": [
    "plt.figure(figsize=(14,7))\n",
    "plt.plot(costs)\n",
    "plt.xlabel('Epochs')\n",
    "plt.ylabel('Cost')\n",
    "plt.title('Cost function')"
   ]
  },
  {
   "cell_type": "markdown",
   "metadata": {},
   "source": [
    "### 3.4. Compute accuracy"
   ]
  },
  {
   "cell_type": "code",
   "execution_count": 16,
   "metadata": {},
   "outputs": [
    {
     "name": "stdout",
     "output_type": "stream",
     "text": [
      "Accuracy = 99.19 %\n"
     ]
    }
   ],
   "source": [
    "correct_prediction = tf.equal(tf.argmax(y_pred,1), tf.argmax(y,1))\n",
    "accuracy = tf.reduce_mean(tf.cast(correct_prediction, tf.float32))*100\n",
    "print ('Accuracy = {:05.2f}'.format(sess.run(accuracy,feed_dict={x: x_test, y:y_test})),'%')"
   ]
  }
 ],
 "metadata": {
  "anaconda-cloud": {},
  "kernelspec": {
   "display_name": "Python [conda root]",
   "language": "python",
   "name": "conda-root-py"
  },
  "language_info": {
   "codemirror_mode": {
    "name": "ipython",
    "version": 3
   },
   "file_extension": ".py",
   "mimetype": "text/x-python",
   "name": "python",
   "nbconvert_exporter": "python",
   "pygments_lexer": "ipython3",
   "version": "3.5.2"
  }
 },
 "nbformat": 4,
 "nbformat_minor": 1
}
